import numpy as np
from sklearn import preprocessing, model_selection,neighbors
import pandas as pd
from matplotlib import pyplot as plt
df = pd.read_csv('breast-cancer-wisconsin1.csv')
df.replace('?',-99999,inplace=True)
df.drop(['id'],1,inplace= True)
x = np.array(df.drop(['class'],1))
y = np.array(df['class'])
x_train, x_test,y_train,y_test = model_selection.train_test_split(x,y,test_size=0.2)
clf = neighbors.KNeighborsClassifier()
clf.fit(x_train,y_train)
acc = clf.score(x_test,y_test)
print(acc)
ex_measures = np.array([[4,9,1,9,1,2,3,9,9]])

prediction = clf.predict(ex_measures)
print(prediction)

0.9928571428571429
[4]

import matplotlib.pyplot as plt
import warnings
from matplotlib import style
import numpy as np
from  math import sqrt
from collections import Counter
style.use('fivethirtyeight')
datasets = {'k':[[1,2],[2,3],[3,1]] , 'r':[[6,5],[7,7],[8,6]] }
new_features = [5,5]
[[plt.scatter(ii[0],ii[1],s=100,color=i) for ii in datasets[i]] for i in datasets]
plt.scatter(new_features[0],new_features[1],s=100, color = 'g')
plt.show()
dist = []
def k_nearest_neighbors(data, predict, k=3):
    if len(data)>=k:
        warnings.warn('length of data is greater than k which means we can,t classify b/w more than k grps using k smallest dist')
     
            
  
        
    for grp in data:
        for features in data[grp]:
            euclid_dist = np.linalg.norm(np.array(features) - np.array(predict))
            dist.append([euclid_dist,grp])
            
            print(dist)
            votes = [i[1] for i in sorted(dist)[:k]]
            print(votes)
            votes_res = Counter(votes).most_common(1)[0][0]
            return votes_res

res = k_nearest_neighbors(datasets,new_features)
print(res)
[[plt.scatter(ii[0],ii[1],s=100,color=i) for ii in datasets[i]] for i in datasets]
plt.scatter(new_features[0],new_features[1],s=100, color = res)
plt.show()

import matplotlib.pyplot as plt
import warnings
from matplotlib import style
import numpy as np
from  math import sqrt
import pandas as pd
import random
from collections import Counter
style.use('fivethirtyeight')

def k_nearest_neighbors(data, predict, k=3):
    if len(data) >= k:
        warnings.warn('K is set to a value less than total voting groups!')
        
    distances = []
    for group in data:
        for features in data[group]:
            euclidean_distance = np.linalg.norm(np.array(features)-np.array(predict))
            distances.append([euclidean_distance,group])
            
            print(distances)

    votes = [i[1] for i in sorted(distances)[:k]]
    print(votes)
    
    vote_result = Counter(votes).most_common(1)[0][0]
    return vote_result

df = pd.read_csv('breast-cancer-wisconsin1.csv')


df.replace('?',-99999,inplace=True)
df.drop(['id'],1,inplace= True)
full_data = df.astype(float).values.tolist()
random.shuffle(full_data)
print(full_data[:5])
train_set = {2:[] , 4:[]}
test_set = { 2:[] , 4:[]}
test_size =0.2
train_data = full_data[:-int(test_size*len(full_data))]
test_data = full_data[-int(test_size*len(full_data)):]
for i in train_data:
    a = int(i[-1])
    train_set[a].append(i[:-1])
    
for i in test_data:
    b = int(i[-1])
    test_set[b].append(i[:-1])
    
correct = 0
total = 0

for group in test_set:
    for data in test_set[group]:
        vote = k_nearest_neighbors(train_set, data, k=5)
        if group == vote:
            correct += 1
        total += 1
        
        
print('Accuracy:', correct/total)


                
   
 import numpy as np
import matplotlib.pyplot as plt
from matplotlib import style
import warnings
from collections import Counter
#dont forget this
import pandas as pd
import random
style.use('fivethirtyeight')

def k_nearest_neighbors(data, predict, k=3):
    if len(data) >= k:
        warnings.warn('K is set to a value less than total voting groups!')
    distances = []
    for group in data:
        for features in data[group]:
            euclidean_distance = np.linalg.norm(np.array(features)-np.array(predict))
            distances.append([euclidean_distance,group])
    votes = [i[1] for i in sorted(distances)[:k]]
    vote_result = Counter(votes).most_common(1)[0][0]
    return vote_result

df = pd.read_csv('breast-cancer-wisconsin1.csv')
df.replace('?',-99999, inplace=True)
df.drop(['id'], 1, inplace=True)
full_data = df.astype(float).values.tolist()

random.shuffle(full_data)

test_size = 0.2
train_set = {2:[], 4:[]}
test_set = {2:[], 4:[]}
train_data = full_data[:-int(test_size*len(full_data))]
test_data = full_data[-int(test_size*len(full_data)):]

for i in train_data:
    train_set[i[-1]].append(i[:-1])

for i in test_data:
    test_set[i[-1]].append(i[:-1])

correct = 0
total = 0

for group in test_set:
    for data in test_set[group]:
        vote = k_nearest_neighbors(train_set, data, k=5)
        if group == vote:
            correct += 1
        total += 1
print('Accuracy:', correct/total)
 
 Accuracy: 1.0
                
